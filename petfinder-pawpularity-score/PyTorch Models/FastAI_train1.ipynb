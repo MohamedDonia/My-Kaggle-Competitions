{
 "cells": [
  {
   "cell_type": "code",
   "execution_count": 1,
   "id": "5f027d1f",
   "metadata": {},
   "outputs": [],
   "source": [
    "import sys \n",
    "import os\n",
    "import math\n",
    "from utils import colorstr, LOGGER\n",
    "sys.path.append(os.path.abspath(\"pytorch-image-models\"))\n",
    "from timm import create_model\n",
    "from timm.data.mixup import Mixup\n",
    "from fastai.vision.all import *\n",
    "from sklearn.model_selection import StratifiedKFold\n",
    "from sklearn.metrics import mean_squared_error\n",
    "\n",
    "set_seed(1, reproducible=True)"
   ]
  },
  {
   "cell_type": "code",
   "execution_count": 2,
   "id": "aa8a2229",
   "metadata": {},
   "outputs": [
    {
     "name": "stdout",
     "output_type": "stream",
     "text": [
      "There are 9912 images\n",
      "The mean Pawpularity score is 38.03904358353511\n",
      "The median Pawpularity score is 33.0\n",
      "The standard deviation of the Pawpularity score is 20.59199010577444\n",
      "There are 100 unique values of Pawpularity score\n"
     ]
    }
   ],
   "source": [
    "train_df = pd.read_csv('train.csv')\n",
    "train_df['path'] = train_df['Id'].map(lambda x:'train/'+ str(x) +'.jpg')\n",
    "train_df = train_df.drop(columns=['Id'])\n",
    "train_df = train_df.sample(frac=1).reset_index(drop=True) #shuffle dataframe\n",
    "print(f\"There are {len(train_df)} images\")\n",
    "train_df['Pawpularity'].hist(figsize = (10, 5))\n",
    "print(f\"The mean Pawpularity score is {train_df['Pawpularity'].mean()}\")\n",
    "print(f\"The median Pawpularity score is {train_df['Pawpularity'].median()}\")\n",
    "print(f\"The standard deviation of the Pawpularity score is {train_df['Pawpularity'].std()}\")\n",
    "print(f\"There are {len(train_df['Pawpularity'].unique())} unique values of Pawpularity score\")\n",
    "train_df['norm_score'] = train_df['Pawpularity']/100"
   ]
  },
  {
   "cell_type": "code",
   "execution_count": 3,
   "id": "5996f083",
   "metadata": {},
   "outputs": [],
   "source": [
    "seed=12\n",
    "set_seed(seed, reproducible=True)\n",
    "torch.manual_seed(seed)\n",
    "torch.cuda.manual_seed(seed)\n",
    "torch.backends.cudnn.deterministic = True\n",
    "torch.use_deterministic_algorithms = True"
   ]
  },
  {
   "cell_type": "code",
   "execution_count": 4,
   "id": "e3541d31",
   "metadata": {},
   "outputs": [
    {
     "name": "stdout",
     "output_type": "stream",
     "text": [
      "14\n"
     ]
    },
    {
     "data": {
      "text/plain": [
       "<AxesSubplot:>"
      ]
     },
     "execution_count": 4,
     "metadata": {},
     "output_type": "execute_result"
    }
   ],
   "source": [
    "#Sturges' rule\n",
    "num_bins = int(np.floor(1+np.log2(len(train_df))))\n",
    "print(num_bins)\n",
    "\n",
    "train_df['bins'] = pd.cut(train_df['norm_score'], bins=num_bins, labels=False)\n",
    "train_df['bins'].hist()"
   ]
  },
  {
   "cell_type": "code",
   "execution_count": 5,
   "id": "5c3c8279",
   "metadata": {},
   "outputs": [],
   "source": [
    "def petfinder_rmse(input,target):\n",
    "    return 100*torch.sqrt(F.mse_loss(F.sigmoid(input.flatten()), target))\n",
    "\n",
    "def get_data(fold):\n",
    "    train_df_f = train_df.copy()\n",
    "    # add is_valid for validation fold\n",
    "    train_df_f['is_valid'] = (train_df_f['fold'] == fold)\n",
    "    splitter = RandomSplitter(0.2)\n",
    "    # Change RandomSplitter to IndexSplitter\n",
    "    splitter = IndexSplitter(train_df_f[train_df_f['is_valid']].index.values)\n",
    "    dls = DataBlock(blocks=(ImageBlock, RegressionBlock),\n",
    "                get_x=ColReader('path'),\n",
    "                get_y=ColReader('norm_score'),\n",
    "                splitter=splitter,\n",
    "                item_tfms=Resize(224), #pass in item_tfms\n",
    "                batch_tfms=setup_aug_tfms([Brightness(), \n",
    "                                           Contrast(), \n",
    "                                           Hue(), \n",
    "                                           Saturation()])\n",
    "               )\n",
    "    \n",
    "    paw_dls = dls.dataloaders(train_df_f, \n",
    "                          bs=BATCH_SIZE,\n",
    "                          num_workers=8,\n",
    "                          seed=seed)\n",
    "    \n",
    "    return paw_dls, splitter\n",
    "\n",
    "\n",
    "def get_learner(fold_num):\n",
    "    data, splitter = get_data(fold_num)\n",
    "    model = create_model('swin_large_patch4_window7_224', \n",
    "                         pretrained=True, \n",
    "                         num_classes=data.c)\n",
    "    learn = Learner(data, model, \n",
    "                    loss_func=BCEWithLogitsLossFlat(), \n",
    "                    metrics=petfinder_rmse, \n",
    "                    cbs=[MixUp(0.25)]).to_fp16()\n",
    "    \n",
    "    return learn, splitter"
   ]
  },
  {
   "cell_type": "code",
   "execution_count": 6,
   "id": "eeca7af1",
   "metadata": {},
   "outputs": [
    {
     "name": "stderr",
     "output_type": "stream",
     "text": [
      "/home/umbra/anaconda3/envs/MyTorch/lib/python3.8/site-packages/torch/functional.py:445: UserWarning: torch.meshgrid: in an upcoming release, it will be required to pass the indexing argument. (Triggered internally at  /opt/conda/conda-bld/pytorch_1634272128894/work/aten/src/ATen/native/TensorShape.cpp:2157.)\n",
      "  return _VF.meshgrid(tensors, **kwargs)  # type: ignore[attr-defined]\n",
      "Loading pretrained weights from url (https://github.com/SwinTransformer/storage/releases/download/v1.0.0/swin_large_patch4_window7_224_22kto1k.pth)\n"
     ]
    },
    {
     "data": {
      "text/html": [],
      "text/plain": [
       "<IPython.core.display.HTML object>"
      ]
     },
     "metadata": {},
     "output_type": "display_data"
    },
    {
     "data": {
      "text/plain": [
       "SuggestedLRs(valley=0.0005754399462603033)"
      ]
     },
     "execution_count": 6,
     "metadata": {},
     "output_type": "execute_result"
    }
   ],
   "source": [
    "train_df['fold'] = -1\n",
    "N_FOLDS = 10\n",
    "BATCH_SIZE = 4\n",
    "\n",
    "strat_kfold = StratifiedKFold(n_splits=N_FOLDS, random_state=seed, shuffle=True)\n",
    "for i, (_, train_index) in enumerate(strat_kfold.split(train_df.index, train_df['bins'])):\n",
    "    train_df.iloc[train_index, -1] = i\n",
    "    \n",
    "train_df['fold'] = train_df['fold'].astype('int')\n",
    "\n",
    "    \n",
    "    \n",
    "learn, splitter = get_learner(fold_num=0)\n",
    "learn.lr_find()"
   ]
  },
  {
   "cell_type": "code",
   "execution_count": 7,
   "id": "1e8d4d70",
   "metadata": {},
   "outputs": [
    {
     "data": {
      "text/html": [
       "<table border=\"1\" class=\"dataframe\">\n",
       "  <thead>\n",
       "    <tr style=\"text-align: left;\">\n",
       "      <th>epoch</th>\n",
       "      <th>train_loss</th>\n",
       "      <th>valid_loss</th>\n",
       "      <th>petfinder_rmse</th>\n",
       "      <th>time</th>\n",
       "    </tr>\n",
       "  </thead>\n",
       "  <tbody>\n",
       "    <tr>\n",
       "      <td>0</td>\n",
       "      <td>0.652484</td>\n",
       "      <td>0.645134</td>\n",
       "      <td>16.516209</td>\n",
       "      <td>10:32</td>\n",
       "    </tr>\n",
       "    <tr>\n",
       "      <td>1</td>\n",
       "      <td>0.650493</td>\n",
       "      <td>0.647341</td>\n",
       "      <td>16.805586</td>\n",
       "      <td>10:18</td>\n",
       "    </tr>\n",
       "    <tr>\n",
       "      <td>2</td>\n",
       "      <td>0.640004</td>\n",
       "      <td>0.642100</td>\n",
       "      <td>15.949996</td>\n",
       "      <td>08:54</td>\n",
       "    </tr>\n",
       "    <tr>\n",
       "      <td>3</td>\n",
       "      <td>0.628254</td>\n",
       "      <td>0.642803</td>\n",
       "      <td>16.032101</td>\n",
       "      <td>10:05</td>\n",
       "    </tr>\n",
       "    <tr>\n",
       "      <td>4</td>\n",
       "      <td>0.637023</td>\n",
       "      <td>0.642060</td>\n",
       "      <td>16.009418</td>\n",
       "      <td>10:26</td>\n",
       "    </tr>\n",
       "  </tbody>\n",
       "</table>"
      ],
      "text/plain": [
       "<IPython.core.display.HTML object>"
      ]
     },
     "metadata": {},
     "output_type": "display_data"
    },
    {
     "name": "stderr",
     "output_type": "stream",
     "text": [
      "/home/umbra/anaconda3/envs/MyTorch/lib/python3.8/site-packages/torch/nn/functional.py:1806: UserWarning: nn.functional.sigmoid is deprecated. Use torch.sigmoid instead.\n",
      "  warnings.warn(\"nn.functional.sigmoid is deprecated. Use torch.sigmoid instead.\")\n"
     ]
    },
    {
     "name": "stdout",
     "output_type": "stream",
     "text": [
      "Better model found at epoch 0 with valid_loss value: 0.645134449005127.\n",
      "Better model found at epoch 2 with valid_loss value: 0.642099916934967.\n",
      "Better model found at epoch 4 with valid_loss value: 0.6420602202415466.\n",
      "No improvement since epoch 2: early stopping\n"
     ]
    }
   ],
   "source": [
    "learn.fit_one_cycle(5, \n",
    "                    2e-5, \n",
    "                    cbs=[SaveModelCallback(), \n",
    "                         EarlyStoppingCallback(monitor='petfinder_rmse', \n",
    "                                               comp=np.less, \n",
    "                                               patience=2)]) \n"
   ]
  },
  {
   "cell_type": "code",
   "execution_count": 9,
   "id": "83f4ea93",
   "metadata": {},
   "outputs": [
    {
     "data": {
      "text/plain": [
       "['T_destination',\n",
       " '__call__',\n",
       " '__class__',\n",
       " '__delattr__',\n",
       " '__dict__',\n",
       " '__dir__',\n",
       " '__doc__',\n",
       " '__enter__',\n",
       " '__eq__',\n",
       " '__exit__',\n",
       " '__format__',\n",
       " '__ge__',\n",
       " '__getattr__',\n",
       " '__getattribute__',\n",
       " '__gt__',\n",
       " '__hash__',\n",
       " '__init__',\n",
       " '__init_subclass__',\n",
       " '__le__',\n",
       " '__lt__',\n",
       " '__module__',\n",
       " '__ne__',\n",
       " '__new__',\n",
       " '__reduce__',\n",
       " '__reduce_ex__',\n",
       " '__repr__',\n",
       " '__setattr__',\n",
       " '__setstate__',\n",
       " '__sizeof__',\n",
       " '__stored_args__',\n",
       " '__str__',\n",
       " '__subclasshook__',\n",
       " '__weakref__',\n",
       " '_apply',\n",
       " '_backward_hooks',\n",
       " '_bn_bias_state',\n",
       " '_buffers',\n",
       " '_call_impl',\n",
       " '_call_one',\n",
       " '_component_attr_filter',\n",
       " '_default',\n",
       " '_dir',\n",
       " '_do_epoch',\n",
       " '_do_epoch_train',\n",
       " '_do_epoch_validate',\n",
       " '_do_fit',\n",
       " '_do_one_batch',\n",
       " '_end_cleanup',\n",
       " '_forward_hooks',\n",
       " '_forward_pre_hooks',\n",
       " '_get_backward_hooks',\n",
       " '_get_name',\n",
       " '_grab_cbs',\n",
       " '_is_full_backward_hook',\n",
       " '_load_from_state_dict',\n",
       " '_load_state_dict_pre_hooks',\n",
       " '_maybe_warn_non_full_backward_hook',\n",
       " '_metrics',\n",
       " '_modules',\n",
       " '_named_members',\n",
       " '_non_persistent_buffers_set',\n",
       " '_parameters',\n",
       " '_register_load_state_dict_pre_hook',\n",
       " '_register_state_dict_hook',\n",
       " '_replicate_for_data_parallel',\n",
       " '_save_to_state_dict',\n",
       " '_set_device',\n",
       " '_slow_forward',\n",
       " '_split',\n",
       " '_state_dict_hooks',\n",
       " '_version',\n",
       " '_with_events',\n",
       " 'absolute_pos_embed',\n",
       " 'add_cb',\n",
       " 'add_cbs',\n",
       " 'add_module',\n",
       " 'added_cbs',\n",
       " 'all_batches',\n",
       " 'ape',\n",
       " 'apply',\n",
       " 'avgpool',\n",
       " 'bfloat16',\n",
       " 'buffers',\n",
       " 'cbs',\n",
       " 'children',\n",
       " 'cpu',\n",
       " 'create_mbar',\n",
       " 'create_opt',\n",
       " 'cuda',\n",
       " 'default_cfg',\n",
       " 'dl',\n",
       " 'dls',\n",
       " 'double',\n",
       " 'dump_patches',\n",
       " 'embed_dim',\n",
       " 'epoch',\n",
       " 'eval',\n",
       " 'export',\n",
       " 'extra_repr',\n",
       " 'final_record',\n",
       " 'fine_tune',\n",
       " 'fit',\n",
       " 'fit_flat_cos',\n",
       " 'fit_one_cycle',\n",
       " 'fit_sgdr',\n",
       " 'float',\n",
       " 'forward',\n",
       " 'forward_features',\n",
       " 'freeze',\n",
       " 'freeze_to',\n",
       " 'get_buffer',\n",
       " 'get_classifier',\n",
       " 'get_extra_state',\n",
       " 'get_parameter',\n",
       " 'get_preds',\n",
       " 'get_submodule',\n",
       " 'half',\n",
       " 'head',\n",
       " 'iter',\n",
       " 'layers',\n",
       " 'load',\n",
       " 'load_state_dict',\n",
       " 'logger',\n",
       " 'loss',\n",
       " 'loss_func',\n",
       " 'loss_grad',\n",
       " 'loss_not_reduced',\n",
       " 'lr',\n",
       " 'lr_find',\n",
       " 'metrics',\n",
       " 'mix_up',\n",
       " 'mixed_precision',\n",
       " 'mlp_ratio',\n",
       " 'model',\n",
       " 'model_dir',\n",
       " 'modules',\n",
       " 'moms',\n",
       " 'n_epoch',\n",
       " 'n_iter',\n",
       " 'named_buffers',\n",
       " 'named_children',\n",
       " 'named_modules',\n",
       " 'named_parameters',\n",
       " 'no_bar',\n",
       " 'no_logging',\n",
       " 'no_mbar',\n",
       " 'no_weight_decay',\n",
       " 'no_weight_decay_keywords',\n",
       " 'norm',\n",
       " 'num_classes',\n",
       " 'num_features',\n",
       " 'num_layers',\n",
       " 'one_batch',\n",
       " 'opt',\n",
       " 'opt_func',\n",
       " 'ordered_cbs',\n",
       " 'parameters',\n",
       " 'patch_embed',\n",
       " 'patch_grid',\n",
       " 'patch_norm',\n",
       " 'path',\n",
       " 'pct_train',\n",
       " 'pos_drop',\n",
       " 'pred',\n",
       " 'predict',\n",
       " 'progress',\n",
       " 'recorder',\n",
       " 'register_backward_hook',\n",
       " 'register_buffer',\n",
       " 'register_forward_hook',\n",
       " 'register_forward_pre_hook',\n",
       " 'register_full_backward_hook',\n",
       " 'register_parameter',\n",
       " 'remove_cb',\n",
       " 'remove_cbs',\n",
       " 'removed_cbs',\n",
       " 'requires_grad_',\n",
       " 'reset_classifier',\n",
       " 'save',\n",
       " 'scaler',\n",
       " 'set_extra_state',\n",
       " 'share_memory',\n",
       " 'show_results',\n",
       " 'show_training_loop',\n",
       " 'smooth_loss',\n",
       " 'splitter',\n",
       " 'state_dict',\n",
       " 'summary',\n",
       " 'to',\n",
       " 'to_detach',\n",
       " 'to_empty',\n",
       " 'to_fp16',\n",
       " 'to_fp32',\n",
       " 'to_non_native_fp16',\n",
       " 'to_non_native_fp32',\n",
       " 'train',\n",
       " 'train_bn',\n",
       " 'train_eval',\n",
       " 'train_iter',\n",
       " 'training',\n",
       " 'training',\n",
       " 'tta',\n",
       " 'type',\n",
       " 'unfreeze',\n",
       " 'validate',\n",
       " 'validation_context',\n",
       " 'wd',\n",
       " 'wd_bn_bias',\n",
       " 'x',\n",
       " 'xb',\n",
       " 'xpu',\n",
       " 'y',\n",
       " 'yb',\n",
       " 'zero_grad']"
      ]
     },
     "execution_count": 9,
     "metadata": {},
     "output_type": "execute_result"
    }
   ],
   "source": [
    "dir(learn)"
   ]
  },
  {
   "cell_type": "code",
   "execution_count": 22,
   "id": "4958e315",
   "metadata": {},
   "outputs": [
    {
     "data": {
      "text/plain": [
       "(None,)"
      ]
     },
     "execution_count": 22,
     "metadata": {},
     "output_type": "execute_result"
    }
   ],
   "source": [
    "learn.yb"
   ]
  },
  {
   "cell_type": "code",
   "execution_count": null,
   "id": "a11fe118",
   "metadata": {},
   "outputs": [],
   "source": []
  }
 ],
 "metadata": {
  "kernelspec": {
   "display_name": "Python 3",
   "language": "python",
   "name": "python3"
  },
  "language_info": {
   "codemirror_mode": {
    "name": "ipython",
    "version": 3
   },
   "file_extension": ".py",
   "mimetype": "text/x-python",
   "name": "python",
   "nbconvert_exporter": "python",
   "pygments_lexer": "ipython3",
   "version": "3.8.12"
  }
 },
 "nbformat": 4,
 "nbformat_minor": 5
}
